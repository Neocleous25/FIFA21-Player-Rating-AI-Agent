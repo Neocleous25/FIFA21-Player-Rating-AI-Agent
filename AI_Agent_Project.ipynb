{
  "nbformat": 4,
  "nbformat_minor": 0,
  "metadata": {
    "colab": {
      "provenance": []
    },
    "kernelspec": {
      "name": "python3",
      "display_name": "Python 3"
    },
    "language_info": {
      "name": "python"
    }
  },
  "cells": [
    {
      "cell_type": "code",
      "source": [
        "from google.colab import drive\n",
        "drive.mount('/content/drive')"
      ],
      "metadata": {
        "colab": {
          "base_uri": "https://localhost:8080/"
        },
        "id": "ICf3vXsEBHZc",
        "outputId": "0cd7d0af-b3cd-4a18-cede-6ad91f41da65"
      },
      "execution_count": 6,
      "outputs": [
        {
          "output_type": "stream",
          "name": "stdout",
          "text": [
            "Mounted at /content/drive\n"
          ]
        }
      ]
    },
    {
      "cell_type": "markdown",
      "source": [
        "🤖 Βήμα 3: AI Agent Project"
      ],
      "metadata": {
        "id": "S1mNkLe1B8gf"
      }
    },
    {
      "cell_type": "code",
      "source": [
        "def generate_random_agent():\n",
        "    nationality = random.choice(le_nat.classes_)\n",
        "    club = random.choice(le_club.classes_)\n",
        "\n",
        "    age = random.randint(18, 40)\n",
        "    height_cm = random.randint(160, 200)\n",
        "    weight_kg = random.randint(60, 100)\n",
        "\n",
        "    nationality_encoded = le_nat.transform([nationality])[0]\n",
        "    club_encoded = le_club.transform([club])[0]\n",
        "\n",
        "    return {\n",
        "        'age': age,\n",
        "        'height_cm': height_cm,\n",
        "        'weight_kg': weight_kg,\n",
        "        'nationality_encoded': nationality_encoded,\n",
        "        'club_encoded': club_encoded,\n",
        "        'nationality_name': nationality,\n",
        "        'club_name': club\n",
        "    }"
      ],
      "metadata": {
        "id": "dRMejDClCAbX"
      },
      "execution_count": 11,
      "outputs": []
    },
    {
      "cell_type": "code",
      "source": [
        "def predict_rating_category(agent):\n",
        "    X_agent = pd.DataFrame([{\n",
        "        'age': agent['age'],\n",
        "        'height_cm': agent['height_cm'],\n",
        "        'weight_kg': agent['weight_kg'],\n",
        "        'nationality': agent['nationality_encoded'],\n",
        "        'club_name': agent['club_encoded']\n",
        "    }])\n",
        "    return clf.predict(X_agent)[0]\n"
      ],
      "metadata": {
        "id": "0_nljkM-CDfp"
      },
      "execution_count": 12,
      "outputs": []
    },
    {
      "cell_type": "code",
      "source": [
        "def generate_feedback(agent, rating):\n",
        "    feedback = []\n",
        "\n",
        "    # Feedback based on age\n",
        "    if agent['age'] > 30:\n",
        "        feedback.append(\"This player is quite experienced, which can be an asset for leadership.\")\n",
        "    elif agent['age'] < 22:\n",
        "        feedback.append(\"This player is still young and has potential for development.\")\n",
        "\n",
        "    # Feedback based on physical stats\n",
        "    if agent['height_cm'] > 185:\n",
        "        feedback.append(\"His height is an advantage for aerial duels.\")\n",
        "    if agent['weight_kg'] < 70:\n",
        "        feedback.append(\"He may need to improve physical strength to compete at a higher level.\")\n",
        "\n",
        "    # Feedback based on rating\n",
        "    if rating == \"Top\":\n",
        "        feedback.append(\"Great stats overall. This player likely performs at elite level clubs.\")\n",
        "    elif rating == \"Average\":\n",
        "        feedback.append(\"Good balance of attributes, but there is room for growth.\")\n",
        "    else:\n",
        "        feedback.append(\"Current attributes indicate performance below average. Focus on training and physical conditioning.\")\n",
        "\n",
        "    return \" \".join(feedback)\n"
      ],
      "metadata": {
        "id": "PKeMDhkFCFuB"
      },
      "execution_count": null,
      "outputs": []
    },
    {
      "cell_type": "markdown",
      "source": [
        "💬 Feedback - Mini Report 💬"
      ],
      "metadata": {
        "id": "-eB4-E5PCIYK"
      }
    },
    {
      "cell_type": "code",
      "source": [
        "agent = generate_random_agent()\n",
        "result = predict_rating_category(agent)\n",
        "feedback = generate_feedback(agent, result)\n",
        "\n",
        "print(f\"🤖 Agent: Age {agent['age']}, Height {agent['height_cm']} cm, Weight {agent['weight_kg']} kg\")\n",
        "print(f\"🌐 Nationality: {agent['nationality_name']}\")\n",
        "print(f\"🏟️ Club: {agent['club_name']}\")\n",
        "print(f\"💬 Feedback: {feedback}\")\n"
      ],
      "metadata": {
        "colab": {
          "base_uri": "https://localhost:8080/"
        },
        "id": "fhcdL2mjCKTy",
        "outputId": "89e43c45-7724-420c-e2e5-b7f4e6986c80"
      },
      "execution_count": 13,
      "outputs": [
        {
          "output_type": "stream",
          "name": "stdout",
          "text": [
            "🤖 Agent: Age 32, Height 162 cm, Weight 79 kg\n",
            "🌐 Nationality: Honduras\n",
            "🏟️ Club: FC Hermannstadt\n",
            "💬 Feedback: This player is quite experienced, which can be an asset for leadership. - Current attributes indicate performance below average. Focus on training and physical conditioning.\n"
          ]
        }
      ]
    },
    {
      "cell_type": "markdown",
      "source": [
        "🤖 What-if Prediction 🤖"
      ],
      "metadata": {
        "id": "ba7oDHxLCRF6"
      }
    },
    {
      "cell_type": "code",
      "source": [
        "# Δημιουργία \"What-if\" Agent με rating 89 (TOP κατηγορία)\n",
        "agent = {\n",
        "    'age': 33,\n",
        "    'height_cm': 170,\n",
        "    'weight_kg': 72,\n",
        "    'nationality_encoded': le_nat.transform(['Argentina'])[0],\n",
        "    'club_encoded': le_club.transform(['FC Barcelona'])[0],\n",
        "    'nationality_name': 'Argentina',\n",
        "    'club_name': 'FC Barcelona'\n",
        "}\n",
        "\n",
        "# Πρόβλεψη\n",
        "result = predict_rating_category(agent)\n",
        "\n",
        "# Εμφάνιση\n",
        "print(f\"👤 Agent: Age {agent['age']}, Height {agent['height_cm']} cm, Weight {agent['weight_kg']} kg\")\n",
        "print(f\"🌍 Nationality: {agent['nationality_name']}\")\n",
        "print(f\"⚽ Club: {agent['club_name']}\")\n",
        "print(f\"🧠 Prediction: This player belongs to the **{result}** rating category.\")\n"
      ],
      "metadata": {
        "colab": {
          "base_uri": "https://localhost:8080/"
        },
        "id": "S6i5Fpg0CR5E",
        "outputId": "3057e791-b9ba-49a2-a84f-41a5241d9896"
      },
      "execution_count": 14,
      "outputs": [
        {
          "output_type": "stream",
          "name": "stdout",
          "text": [
            "👤 Agent: Age 33, Height 170 cm, Weight 72 kg\n",
            "🌍 Nationality: Argentina\n",
            "⚽ Club: FC Barcelona\n",
            "🧠 Prediction: This player belongs to the **Top** rating category.\n"
          ]
        }
      ]
    }
  ]
}
