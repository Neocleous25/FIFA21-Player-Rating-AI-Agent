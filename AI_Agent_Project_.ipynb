{
  "nbformat": 4,
  "nbformat_minor": 0,
  "metadata": {
    "colab": {
      "provenance": []
    },
    "kernelspec": {
      "name": "python3",
      "display_name": "Python 3"
    },
    "language_info": {
      "name": "python"
    }
  },
  "cells": [
    {
      "cell_type": "code",
      "source": [
        "import joblib\n",
        "model = joblib.load('model.pkl')"
      ],
      "metadata": {
        "id": "-Pxs68gdtk0a"
      },
      "execution_count": 64,
      "outputs": []
    },
    {
      "cell_type": "markdown",
      "source": [
        "🤖 Βήμα 3: AI Agent Project"
      ],
      "metadata": {
        "id": "S1mNkLe1B8gf"
      }
    },
    {
      "cell_type": "code",
      "source": [
        "def generate_custom_agent():\n",
        "    # Ζητάμε input από τον χρήστη\n",
        "    age = int(input(\"Enter player's age (e.g., 25): \"))\n",
        "    height_cm = int(input(\"Enter player's height in cm (e.g., 180): \"))\n",
        "    weight_kg = int(input(\"Enter player's weight in kg (e.g., 75): \"))\n",
        "\n",
        "    nationality = input(f\"Enter nationality (e.g., {le_nat.classes_[0]}): \")\n",
        "    club = input(f\"Enter club name (e.g., {le_club.classes_[0]}): \")\n",
        "\n",
        "    # Μετατροπή σε encoded μορφή\n",
        "    nationality_encoded = le_nat.transform([nationality])[0]\n",
        "    club_encoded = le_club.transform([club])[0]\n",
        "\n",
        "    return {\n",
        "        'age': age,\n",
        "        'height_cm': height_cm,\n",
        "        'weight_kg': weight_kg,\n",
        "        'nationality_encoded': nationality_encoded,\n",
        "        'club_encoded': club_encoded,\n",
        "        'nationality_name': nationality,\n",
        "        'club_name': club\n",
        "    }\n"
      ],
      "metadata": {
        "id": "dRMejDClCAbX"
      },
      "execution_count": 65,
      "outputs": []
    },
    {
      "cell_type": "code",
      "source": [
        "def predict_rating_category(agent):\n",
        "    X_agent = pd.DataFrame([{\n",
        "        'age': agent['age'],\n",
        "        'height_cm': agent['height_cm'],\n",
        "        'weight_kg': agent['weight_kg'],\n",
        "        'nationality': agent['nationality_encoded'],\n",
        "        'club_name': agent['club_encoded']\n",
        "    }])\n",
        "    return clf.predict(X_agent)[0]\n"
      ],
      "metadata": {
        "id": "0_nljkM-CDfp"
      },
      "execution_count": 66,
      "outputs": []
    },
    {
      "cell_type": "code",
      "source": [
        "def generate_feedback(agent, rating):\n",
        "    feedback = []\n",
        "\n",
        "    # Feedback based on age\n",
        "    if agent['age'] > 30:\n",
        "        feedback.append(\"This player is quite experienced, which can be an asset for leadership.\")\n",
        "    elif agent['age'] < 22:\n",
        "        feedback.append(\"This player is still young and has potential for development.\")\n",
        "\n",
        "    # Feedback based on physical stats\n",
        "    if agent['height_cm'] > 185:\n",
        "        feedback.append(\"His height is an advantage for aerial duels.\")\n",
        "    if agent['weight_kg'] < 70:\n",
        "        feedback.append(\"He may need to improve physical strength to compete at a higher level.\")\n",
        "\n",
        "    # Feedback based on rating\n",
        "    if rating == \"Top\":\n",
        "        feedback.append(\"Great stats overall. This player likely performs at elite level clubs.\")\n",
        "    elif rating == \"Average\":\n",
        "        feedback.append(\"Good balance of attributes, but there is room for growth.\")\n",
        "    else:\n",
        "        feedback.append(\"Current attributes indicate performance below average. Focus on training and physical conditioning.\")\n",
        "\n",
        "    return \" \".join(feedback)\n"
      ],
      "metadata": {
        "id": "PKeMDhkFCFuB"
      },
      "execution_count": 69,
      "outputs": []
    },
    {
      "cell_type": "markdown",
      "source": [
        "💬 Feedback - Mini Report 💬"
      ],
      "metadata": {
        "id": "-eB4-E5PCIYK"
      }
    },
    {
      "cell_type": "code",
      "source": [
        "agent = generate_custom_agent()\n",
        "result = predict_rating_category(agent)\n",
        "feedback = generate_feedback(agent, result)\n",
        "\n",
        "print(f\"🤖 Agent: Age {agent['age']}, Height {agent['height_cm']} cm, Weight {agent['weight_kg']} kg\")\n",
        "print(f\"🌐 Nationality: {agent['nationality_name']}\")\n",
        "print(f\"🏟️ Club: {agent['club_name']}\")\n",
        "print(f\"💬 Feedback: {feedback}\")\n"
      ],
      "metadata": {
        "colab": {
          "base_uri": "https://localhost:8080/"
        },
        "id": "fhcdL2mjCKTy",
        "outputId": "b1953709-8785-4520-d650-9aba53b47095"
      },
      "execution_count": 70,
      "outputs": [
        {
          "output_type": "stream",
          "name": "stdout",
          "text": [
            "Enter player's age (e.g., 25): 25\n",
            "Enter player's height in cm (e.g., 180): 180\n",
            "Enter player's weight in kg (e.g., 75): 75\n",
            "Enter nationality (e.g., Afghanistan): Spain\n",
            "Enter club name (e.g., 1. FC Heidenheim 1846): FC Barcelona\n",
            "🤖 Agent: Age 25, Height 180 cm, Weight 75 kg\n",
            "🌐 Nationality: Spain\n",
            "🏟️ Club: FC Barcelona\n",
            "💬 Feedback: Current attributes indicate performance below average. Focus on training and physical conditioning.\n"
          ]
        }
      ]
    }
  ]
}